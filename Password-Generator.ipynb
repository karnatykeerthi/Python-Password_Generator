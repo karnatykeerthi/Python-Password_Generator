{
 "cells": [
  {
   "cell_type": "code",
   "execution_count": 1,
   "id": "cc1295f3-69de-4fcb-987a-0e0f6d84a971",
   "metadata": {},
   "outputs": [
    {
     "name": "stdin",
     "output_type": "stream",
     "text": [
      "How many passwords do you want to generate?  2\n"
     ]
    },
    {
     "name": "stdout",
     "output_type": "stream",
     "text": [
      "Generating 2 passwords\n"
     ]
    },
    {
     "name": "stdin",
     "output_type": "stream",
     "text": [
      "Enter the length of Password #1 (minimum 3):  3\n",
      "Enter the length of Password #2 (minimum 3):  4\n"
     ]
    },
    {
     "name": "stdout",
     "output_type": "stream",
     "text": [
      "Password #1: QH,\n",
      "Password #2: q`f9\n"
     ]
    }
   ],
   "source": [
    "import random\n",
    "import string\n",
    "\n",
    "def generate_password(length, include_uppercase=True, include_lowercase=True, include_digits=True, include_special=True):\n",
    "    if not (include_uppercase or include_lowercase or include_digits or include_special):\n",
    "        raise ValueError(\"At least one character type must be selected\")\n",
    "    \n",
    "    # Define character sets\n",
    "    uppercase = string.ascii_uppercase if include_uppercase else ''\n",
    "    lowercase = string.ascii_lowercase if include_lowercase else ''\n",
    "    digits = string.digits if include_digits else ''\n",
    "    special = string.punctuation if include_special else ''\n",
    "    \n",
    "    # Combine all selected character sets\n",
    "    all_characters = uppercase + lowercase + digits + special\n",
    "    \n",
    "    if not all_characters:\n",
    "        raise ValueError(\"No characters available to generate password\")\n",
    "    \n",
    "    # Generate password\n",
    "    password = ''.join(random.choice(all_characters) for _ in range(length))\n",
    "    \n",
    "    return password\n",
    "\n",
    "if __name__ == \"__main__\":\n",
    "    min_length = 3\n",
    "    num_passwords = int(input(\"How many passwords do you want to generate? \"))\n",
    "    print(f\"Generating {num_passwords} passwords\")\n",
    "    passwords = []\n",
    "\n",
    "    for i in range(num_passwords):\n",
    "        while True:\n",
    "            try:\n",
    "                length = int(input(f\"Enter the length of Password #{i + 1} (minimum {min_length}): \"))\n",
    "                if length < min_length:\n",
    "                    print(f\"Password length must be at least {min_length}. Please try again.\")\n",
    "                    continue\n",
    "                password = generate_password(length)\n",
    "                passwords.append(password)\n",
    "                break\n",
    "            except ValueError as e:\n",
    "                print(e)\n",
    "    \n",
    "    for i, password in enumerate(passwords, 1):\n",
    "        print(f\"Password #{i}: {password}\")\n"
   ]
  },
  {
   "cell_type": "code",
   "execution_count": null,
   "id": "e62d617e-4eae-4701-8a75-32415e057aa7",
   "metadata": {},
   "outputs": [],
   "source": []
  }
 ],
 "metadata": {
  "kernelspec": {
   "display_name": "Python 3 (ipykernel)",
   "language": "python",
   "name": "python3"
  },
  "language_info": {
   "codemirror_mode": {
    "name": "ipython",
    "version": 3
   },
   "file_extension": ".py",
   "mimetype": "text/x-python",
   "name": "python",
   "nbconvert_exporter": "python",
   "pygments_lexer": "ipython3",
   "version": "3.11.7"
  }
 },
 "nbformat": 4,
 "nbformat_minor": 5
}
